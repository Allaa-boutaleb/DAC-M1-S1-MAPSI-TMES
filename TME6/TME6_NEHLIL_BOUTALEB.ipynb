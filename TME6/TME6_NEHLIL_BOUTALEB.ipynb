{
 "cells": [
  {
   "cell_type": "markdown",
   "metadata": {},
   "source": [
    "# TME sur la classification de lettres manuscrites\n",
    "## Format des données\n",
    "Nous travaillerons sur des lettres manuscrites.\n",
    "Les données sont fournies au format pickle (le standard de sérialisation python, particulièrement convivial). Pour les charger : "
   ]
  },
  {
   "cell_type": "code",
   "execution_count": 1,
   "metadata": {},
   "outputs": [
    {
     "name": "stderr",
     "output_type": "stream",
     "text": [
      "C:\\Users\\PC\\AppData\\Local\\Temp\\ipykernel_8564\\787808469.py:8: VisibleDeprecationWarning: Creating an ndarray from ragged nested sequences (which is a list-or-tuple of lists-or-tuples-or ndarrays with different lengths or shapes) is deprecated. If you meant to do this, you must specify 'dtype=object' when creating the ndarray.\n",
      "  X = np.array(data.get('letters')) # récupération des données sur les lettres\n"
     ]
    }
   ],
   "source": [
    "import numpy as np\n",
    "import pickle as pkl\n",
    "import matplotlib.pyplot as plt\n",
    "from numpy import linalg\n",
    "\n",
    "with open('ressources/lettres.pkl', 'rb') as f:\n",
    "    data = pkl.load(f, encoding='latin1') \n",
    "X = np.array(data.get('letters')) # récupération des données sur les lettres\n",
    "Y = np.array(data.get('labels')) # récupération des étiquettes associées "
   ]
  },
  {
   "cell_type": "markdown",
   "metadata": {},
   "source": [
    "Les données sont dans un format original: une lettre est en fait une série d'angles (exprimés en degrés). Un exemple: "
   ]
  },
  {
   "cell_type": "code",
   "execution_count": 2,
   "metadata": {},
   "outputs": [
    {
     "data": {
      "text/plain": [
       "array([ 36.214493, 347.719116, 322.088898, 312.230957, 314.851013,\n",
       "       315.487213, 313.556702, 326.534973, 141.288971, 167.606689,\n",
       "       199.321594, 217.911087, 226.443298, 235.002472, 252.354492,\n",
       "       270.045654, 291.665161, 350.934723,  17.892815,  20.281025,\n",
       "        28.207161,  43.883423,  53.459026])"
      ]
     },
     "execution_count": 2,
     "metadata": {},
     "output_type": "execute_result"
    }
   ],
   "source": [
    "X[0]"
   ]
  },
  {
   "cell_type": "code",
   "execution_count": 3,
   "metadata": {},
   "outputs": [
    {
     "data": {
      "text/plain": [
       "(23,)"
      ]
     },
     "execution_count": 3,
     "metadata": {},
     "output_type": "execute_result"
    }
   ],
   "source": [
    "X[0].shape"
   ]
  },
  {
   "cell_type": "markdown",
   "metadata": {},
   "source": [
    "Lors de l'acquisition, un stylo intelligent a pris des mesures régulièrement dans le temps: chaque période correspond à un segment de droite et le stylo a calculé l'angle entre deux segments consécutifs... C'est l'information qui vous est fournie.\n",
    "\n",
    "Pour afficher une lettre, il faut reconstruire la trajectoire enregistrée... C'est ce que fait la méthode ci-dessous: "
   ]
  },
  {
   "cell_type": "code",
   "execution_count": 4,
   "metadata": {},
   "outputs": [],
   "source": [
    "# affichage d'une lettre\n",
    "def tracerLettre(let):\n",
    "    a = -let*np.pi/180; # conversion en rad\n",
    "    coord = np.array([[0, 0]]); # point initial\n",
    "    for i in range(len(a)):\n",
    "        x = np.array([[1, 0]]);\n",
    "        rot = np.array([[np.cos(a[i]), -np.sin(a[i])],[ np.sin(a[i]),np.cos(a[i])]])\n",
    "        xr = x.dot(rot) # application de la rotation\n",
    "        coord = np.vstack((coord,xr+coord[-1,:]))\n",
    "    plt.figure()\n",
    "    plt.plot(coord[:,0],coord[:,1])\n",
    "    #plt.savefig(\"exlettre.png\")\n",
    "    return"
   ]
  },
  {
   "cell_type": "code",
   "execution_count": 5,
   "metadata": {},
   "outputs": [
    {
     "name": "stdout",
     "output_type": "stream",
     "text": [
      "[ 36.214493 347.719116 322.088898 312.230957 314.851013 315.487213\n",
      " 313.556702 326.534973 141.288971 167.606689 199.321594 217.911087\n",
      " 226.443298 235.002472 252.354492 270.045654 291.665161 350.934723\n",
      "  17.892815  20.281025  28.207161  43.883423  53.459026]\n",
      "a\n"
     ]
    },
    {
     "data": {
      "image/png": "[encoded data removed]",
      "text/plain": [
       "<Figure size 432x288 with 1 Axes>"
      ]
     },
     "metadata": {
      "needs_background": "light"
     },
     "output_type": "display_data"
    }
   ],
   "source": [
    "# il s'agit d'un 'a'\n",
    "tracerLettre(X[0])\n",
    "print(X[0])\n",
    "print(Y[0]) # vérification de l'étiquette"
   ]
  },
  {
   "cell_type": "markdown",
   "metadata": {},
   "source": [
    "## A. Apprentissage d'un modèle CM (max de vraisemblance)\n",
    "### A1. Discrétisation\n",
    "\n",
    "**1 état = 1 angle**\n",
    "\n",
    "Il est nécessaire de regrouper les angles en un nombre fini d'états (par exemple 20)\n",
    "- définir un `intervalle = 360 / n_etats` (18° si on choisit 20 états)\n",
    "- discrétiser tous les signaux à l'aide de la formule `np.floor(x / intervalle)`\n",
    "    - si n_etats = 20 alors [0, 18[ => 0, [18, 36[ => 1, etc...\n",
    "\n",
    "Donner le code de la méthode `discretise(x, d)` qui prend la base des signaux et retourne une base de signaux discrétisés."
   ]
  },
  {
   "cell_type": "code",
   "execution_count": 7,
   "metadata": {},
   "outputs": [
    {
     "data": {
      "text/plain": [
       "array([0., 2., 2., 2., 2., 2., 2., 2., 1., 1., 1., 1., 1., 1., 2., 2., 2.,\n",
       "       2., 0., 0., 0., 0., 0.])"
      ]
     },
     "execution_count": 7,
     "metadata": {},
     "output_type": "execute_result"
    }
   ],
   "source": [
    "def discretise(x, d):\n",
    "    intervalle = 360 / d\n",
    "    return np.array([np.floor(x[i]/intervalle) for i in range(x.size)])\n",
    "# Test\n",
    "discretise(X[0], 3)"
   ]
  },
  {
   "cell_type": "markdown",
   "metadata": {},
   "source": [
    "**VALIDATION :** code du premier signal avec une discrétisation sur 3 états:\n",
    "```python\n",
    "array([ 0.,  2.,  2.,  2.,  2.,  2.,  2.,  2.,  1.,  1.,  1.,  1., 1., 1., 2., 2.,  2.,\n",
    "       2.,  0.,  0.,  0.,  0.,  0.])\n",
    "```"
   ]
  },
  {
   "cell_type": "markdown",
   "metadata": {},
   "source": [
    "### A2. Regrouper les indices des signaux par classe (pour faciliter l'apprentissage)"
   ]
  },
  {
   "cell_type": "code",
   "execution_count": 8,
   "metadata": {},
   "outputs": [],
   "source": [
    "def groupByLabel(y):\n",
    "    index = []\n",
    "    for i in np.unique(y): # pour toutes les classes\n",
    "        ind, = np.where(y == i)\n",
    "        index.append(ind)\n",
    "    return index"
   ]
  },
  {
   "cell_type": "markdown",
   "metadata": {},
   "source": [
    "Cette méthode produit simplement une structure type:\n",
    "```python\n",
    "[array([ 0,  1,  2,  3,  4,  5,  6,  7,  8,  9, 10]),\n",
    " array([11, 12, 13, 14, 15, 16, 17, 18, 19, 20, 21]),\n",
    " array([22, 23, 24, 25, 26, 27, 28, 29, 30, 31, 32]),\n",
    " array([33, 34, 35, 36, 37, 38, 39, 40, 41, 42, 43]),\n",
    " array([44, 45, 46, 47, 48, 49, 50, 51, 52, 53, 54]),\n",
    " array([55, 56, 57, 58, 59, 60, 61, 62, 63, 64, 65]),\n",
    " ...\n",
    "```\n",
    "Chaque ligne regroupe les indices de signaux correspondant à une classe. Il y a donc 11 exemples de 'a'."
   ]
  },
  {
   "cell_type": "markdown",
   "metadata": {},
   "source": [
    "### A3. Apprendre les modèles CM\n",
    "\n",
    "Soit {$X_C$} la base de signaux discrétisés correspondant à une classe {$C$} et {$d$} le nombre d'états. Donner le code de la fonction `learnMarkovModel(Xc, d)` qui retourne un tuple contenant Pi et A.\n",
    "\n",
    "Rappel:\n",
    "- Initialisation de \n",
    "```python\n",
    " A = np.zeros((d, d))\n",
    " Pi = np.zeros(d)```\n",
    "- Parcours de tous les signaux et incréments de A et Pi\n",
    "- Normalisation (un peu réfléchie pour éviter les divisions par 0)\n",
    "```python\n",
    "A = A / np.maximum(A.sum(1).reshape(d, 1), 1) # normalisation\n",
    "Pi = Pi / Pi.sum()```\n",
    "\n",
    "**Note** : la solution proposée pour gérer le cas des lignes entièrement à 0 est naïve et n'est pas totalement satisfaisante. Comprendre pourquoi. On proposera une solution améliorée plus loin dans le TME. "
   ]
  },
  {
   "cell_type": "code",
   "execution_count": 10,
   "metadata": {},
   "outputs": [
    {
     "name": "stderr",
     "output_type": "stream",
     "text": [
      "C:\\Users\\PC\\AppData\\Local\\Temp\\ipykernel_8564\\1980931887.py:3: VisibleDeprecationWarning: Creating an ndarray from ragged nested sequences (which is a list-or-tuple of lists-or-tuples-or ndarrays with different lengths or shapes) is deprecated. If you meant to do this, you must specify 'dtype=object' when creating the ndarray.\n",
      "  return np.array([np.floor(x[i]/intervalle) for i in range(x.size)])\n"
     ]
    },
    {
     "data": {
      "text/plain": [
       "(array([0.36363636, 0.        , 0.63636364]),\n",
       " array([[0.84444444, 0.06666667, 0.08888889],\n",
       "        [0.        , 0.83333333, 0.16666667],\n",
       "        [0.11382114, 0.06504065, 0.82113821]]))"
      ]
     },
     "execution_count": 10,
     "metadata": {},
     "output_type": "execute_result"
    }
   ],
   "source": [
    "def learnMarkovModel(Xc, d):\n",
    "    A = np.zeros((d, d))\n",
    "    Pi = np.zeros(d)\n",
    "\n",
    "    for x in Xc:\n",
    "        Pi[int(x[0])] += 1\n",
    "        for i in range(x.size-1):\n",
    "            A[int(x[i]), int(x[i+1])] += 1\n",
    "    \n",
    "    A = A / np.maximum(A.sum(1).reshape(d, 1), 1) # normalisation\n",
    "    Pi = Pi / Pi.sum()\n",
    "    \n",
    "    return Pi, A\n",
    "\n",
    "# Test\n",
    "d = 3                   # paramètre de discrétisation\n",
    "Xd = discretise(X, d)    # application de la discrétisation\n",
    "index = groupByLabel(Y)  # groupement des signaux par classe\n",
    "learnMarkovModel(Xd[index[0]], d)"
   ]
  },
  {
   "cell_type": "markdown",
   "metadata": {},
   "source": [
    "**Validation :** premier modèle avec une discrétisation sur 3 états :\n",
    "```python\n",
    "(array([ 0.36363636,  0.        ,  0.63636364]),\n",
    " array([[ 0.84444444,  0.06666667,  0.08888889],\n",
    "       [ 0.        ,  0.83333333,  0.16666667],\n",
    "       [ 0.11382114,  0.06504065,  0.82113821]]))\n",
    "```"
   ]
  },
  {
   "cell_type": "markdown",
   "metadata": {},
   "source": [
    "### A4. Stocker les modèles dans une liste\n",
    "\n",
    "Pour un usage ultérieur plus facile, on utilise le code suivant :"
   ]
  },
  {
   "cell_type": "code",
   "execution_count": 11,
   "metadata": {},
   "outputs": [
    {
     "name": "stderr",
     "output_type": "stream",
     "text": [
      "C:\\Users\\PC\\AppData\\Local\\Temp\\ipykernel_8564\\1980931887.py:3: VisibleDeprecationWarning: Creating an ndarray from ragged nested sequences (which is a list-or-tuple of lists-or-tuples-or ndarrays with different lengths or shapes) is deprecated. If you meant to do this, you must specify 'dtype=object' when creating the ndarray.\n",
      "  return np.array([np.floor(x[i]/intervalle) for i in range(x.size)])\n"
     ]
    }
   ],
   "source": [
    "d = 3                   # paramètre de discrétisation\n",
    "Xd = discretise(X, d)    # application de la discrétisation\n",
    "index = groupByLabel(Y)  # groupement des signaux par classe\n",
    "models = []\n",
    "for cl in range(len(np.unique(Y))): # parcours de toutes les classes et optimisation des modèles\n",
    "    models.append(learnMarkovModel(Xd[index[cl]], d))"
   ]
  },
  {
   "cell_type": "markdown",
   "metadata": {},
   "source": [
    "### A5. Distribution stationnaire\n",
    "\n",
    "La distribution stationnaire $\\mu$, pour un système ergodique, correspond à:\n",
    "\n",
    "- la distribution des états observés dans l'ensemble des données\n",
    "- la distribution obtenu après un grand nombre de passage dans $A$ à partir de n'importe quelle distribution ou état d'origine (une matrice de transition ergodique va nous permettre de converger)\n",
    "- la solution de l'équation de stabilité: $\\mu = \\mu A$\n",
    "\n",
    "Dans le cas de la lettre 'a' et d'une discrétisation en 3 états, calculer la distribution stationnaire par les deux première méthode et vérifier que vous obtenez des résultats similaires.\n",
    "\n",
    "**Note 1:** pour la marche aléatoire, vous construirez une boucle sur 100 iérations (borne sup) et vous sortirez dès que la somme des écarts (en absolu) entre $\\mu_t$ et $\\mu_{t+1}$ est inférieure à $10^{-3}$. Vous vérifierez ensuite que le système converge quelque soit l'état de départ (3 appel àla fonction) ou avec une initialisation aléatoire.\n",
    "\n",
    "**Note 2:** les deux approches, bien que reposant sur les mêmes données, vont donner des solutions différentes. En effet, il n'y a que peu d'observations et le premier calcul repose sur les états alors que le second repose sur les transitions. \n",
    "Afin de vérifier l'exactitude de votre code, vous pourrez revenir sur cette question en fin de sujet avec le protocole suivant:\n",
    "1. utiliser la matrice de transition de 'a' pour générer une séquence de longeur 100000\n",
    "1. faire les statistiques des états (à l'aide d'un ```Counter``` par exemple)\n",
    "1. vérifier la convergence sur de longues séquences"
   ]
  },
  {
   "cell_type": "code",
   "execution_count": 14,
   "metadata": {},
   "outputs": [
    {
     "name": "stdout",
     "output_type": "stream",
     "text": [
      "Distribution stationnaire : [0.30477844 0.28202157 0.41319999]\n",
      "Nb Itérations             : 21\n"
     ]
    },
    {
     "name": "stderr",
     "output_type": "stream",
     "text": [
      "C:\\Users\\PC\\AppData\\Local\\Temp\\ipykernel_8564\\1980931887.py:3: VisibleDeprecationWarning: Creating an ndarray from ragged nested sequences (which is a list-or-tuple of lists-or-tuples-or ndarrays with different lengths or shapes) is deprecated. If you meant to do this, you must specify 'dtype=object' when creating the ndarray.\n",
      "  return np.array([np.floor(x[i]/intervalle) for i in range(x.size)])\n"
     ]
    }
   ],
   "source": [
    "# Calcul de la distribution stationnaire\n",
    "# Méthode 1\n",
    "d = 3                   # paramètre de discrétisation\n",
    "Xd = discretise(X, d)    # application de la discrétisation\n",
    "index = groupByLabel(Y)  # groupement des signaux par classe\n",
    "pi, A = learnMarkovModel(Xd[index[0]], d)\n",
    "pi_u = pi\n",
    "eps = 0.001\n",
    "for i in range(100):\n",
    "    pi_o = pi_u\n",
    "    pi_u = pi_u@A\n",
    "    if np.sum(np.abs(pi_u-pi_o))<eps:\n",
    "        break\n",
    "print('Distribution stationnaire :', pi_u)\n",
    "print('Nb Itérations             :', i)"
   ]
  },
  {
   "cell_type": "code",
   "execution_count": 17,
   "metadata": {},
   "outputs": [
    {
     "name": "stdout",
     "output_type": "stream",
     "text": [
      "[[-0.51716452 -0.79134303 -0.72487788]\n",
      " [-0.48268688  0.22151022  0.03699456]\n",
      " [-0.70679151  0.56983281  0.68788332]]\n"
     ]
    }
   ],
   "source": [
    "# Methode 2\n",
    "w, v = np.linalg.eig(A.T)\n",
    "print(v)"
   ]
  },
  {
   "cell_type": "code",
   "execution_count": 18,
   "metadata": {},
   "outputs": [],
   "source": [
    "# Générer une séquence s"
   ]
  },
  {
   "cell_type": "markdown",
   "metadata": {},
   "source": [
    "##  B. Test (affectation dans les classes sur critère MV)\n",
    "### B1. (log)Probabilité d'une séquence dans un modèle\n",
    "\n",
    "Donner le code de la méthode `probaSequence(s,Pi,A)` qui retourne la log-probabilité d'une séquence `s` dans le modèle {$\\lambda=\\{Pi,A\\}$} "
   ]
  },
  {
   "cell_type": "code",
   "execution_count": 23,
   "metadata": {},
   "outputs": [],
   "source": [
    "def probaSequence(s, Pi, A):\n",
    "    # Votre code\n",
    "    proba = np.log(Pi[int(s[0])])\n",
    "    for i in range(s.size-1):\n",
    "        proba += np.log(A[int(s[i]), int(s[i+1])])\n",
    "    return proba"
   ]
  },
  {
   "cell_type": "code",
   "execution_count": 21,
   "metadata": {},
   "outputs": [
    {
     "name": "stdout",
     "output_type": "stream",
     "text": [
      "[-13.491086           -inf         -inf         -inf         -inf\n",
      "         -inf         -inf         -inf         -inf         -inf\n",
      "         -inf         -inf         -inf         -inf         -inf\n",
      "         -inf         -inf         -inf         -inf         -inf\n",
      "         -inf         -inf         -inf         -inf         -inf\n",
      " -12.48285678]\n"
     ]
    },
    {
     "name": "stderr",
     "output_type": "stream",
     "text": [
      "C:\\Users\\PC\\AppData\\Local\\Temp\\ipykernel_8564\\1980931887.py:3: VisibleDeprecationWarning: Creating an ndarray from ragged nested sequences (which is a list-or-tuple of lists-or-tuples-or ndarrays with different lengths or shapes) is deprecated. If you meant to do this, you must specify 'dtype=object' when creating the ndarray.\n",
      "  return np.array([np.floor(x[i]/intervalle) for i in range(x.size)])\n",
      "C:\\Users\\PC\\AppData\\Local\\Temp\\ipykernel_8564\\175847514.py:3: RuntimeWarning: divide by zero encountered in log\n",
      "  proba = np.log(Pi[int(s[0])])\n",
      "C:\\Users\\PC\\AppData\\Local\\Temp\\ipykernel_8564\\175847514.py:5: RuntimeWarning: divide by zero encountered in log\n",
      "  proba += np.log(A[int(s[i]), int(s[i+1])])\n"
     ]
    }
   ],
   "source": [
    "# Test\n",
    "d = 3                   # paramètre de discrétisation\n",
    "Xd = discretise(X, d)    # application de la discrétisation\n",
    "index = groupByLabel(Y)  # groupement des signaux par classe\n",
    "pi, A = learnMarkovModel(Xd[index[0]], d)\n",
    "a = []\n",
    "# Génération\n",
    "for i in range(len(index)):\n",
    "    pi, A = learnMarkovModel(Xd[index[i]], d)\n",
    "    a.append(probaSequence(Xd[index[0]][0], pi, A))\n",
    "print(np.array(a))"
   ]
  },
  {
   "cell_type": "markdown",
   "metadata": {},
   "source": [
    "**VALIDATION :** probabilité du premier signal dans les 26 modèles avec une discrétisation sur 3 états :\n",
    "```python\n",
    "array([-13.491086  ,         -inf,         -inf,         -inf,\n",
    "               -inf,         -inf,         -inf,         -inf,\n",
    "               -inf,         -inf,         -inf,         -inf,\n",
    "               -inf,         -inf,         -inf,         -inf,\n",
    "               -inf,         -inf,         -inf,         -inf,\n",
    "               -inf,         -inf,         -inf,         -inf,\n",
    "               -inf, -12.48285678])\n",
    "```\n",
    "\n",
    "- Ce signal est-il bien classé ?\n",
    "- D'où viennent tous les `-inf` ? "
   ]
  },
  {
   "cell_type": "markdown",
   "metadata": {},
   "source": [
    "**Réponse**<br/>\n",
    "Ce signal est mal classé.<br/>\n",
    "En effet, une valeur -inf pour la logprob est equivalente à une probabilité nulle, donc à un transition dans la matrice de transition A qui est nulle, ce qui annule la probabilité de toute la séquence."
   ]
  },
  {
   "cell_type": "markdown",
   "metadata": {},
   "source": [
    "### B2. Application de la méthode précédente pour tous les signaux et tous les modèles de lettres\n",
    "\n",
    "L'application se fait en une ligne de code si vous avez respecté les spécifications précédentes : "
   ]
  },
  {
   "cell_type": "code",
   "execution_count": 24,
   "metadata": {},
   "outputs": [
    {
     "name": "stderr",
     "output_type": "stream",
     "text": [
      "C:\\Users\\PC\\AppData\\Local\\Temp\\ipykernel_8564\\2014805988.py:3: RuntimeWarning: divide by zero encountered in log\n",
      "  proba = np.log(Pi[int(s[0])])\n",
      "C:\\Users\\PC\\AppData\\Local\\Temp\\ipykernel_8564\\2014805988.py:5: RuntimeWarning: divide by zero encountered in log\n",
      "  proba += np.log(A[int(s[i]), int(s[i+1])])\n"
     ]
    }
   ],
   "source": [
    "proba = np.array([[probaSequence(Xd[i], models[cl][0], models[cl][1]) for i in range(len(Xd))]\n",
    "                  for cl in range(len(np.unique(Y)))])"
   ]
  },
  {
   "cell_type": "markdown",
   "metadata": {},
   "source": [
    "### B3. Evaluation des performances\n",
    "\n",
    "Pour l'évaluation, nous proposons l'approche suivante: "
   ]
  },
  {
   "cell_type": "code",
   "execution_count": 25,
   "metadata": {},
   "outputs": [
    {
     "data": {
      "text/plain": [
       "0.6902985074626866"
      ]
     },
     "execution_count": 25,
     "metadata": {},
     "output_type": "execute_result"
    }
   ],
   "source": [
    "# calcul d'une version numérique des Y :\n",
    "Ynum = np.zeros(Y.shape)\n",
    "for num, char in enumerate(np.unique(Y)):\n",
    "    Ynum[Y == char] = num\n",
    "\n",
    "# Calcul de la classe la plus probable :\n",
    "pred = proba.argmax(0) # max colonne par colonne\n",
    "\n",
    "# Calcul d'un pourcentage de bonne classificatioqn :\n",
    "np.where(pred != Ynum, 0.,1.).mean()"
   ]
  },
  {
   "cell_type": "code",
   "execution_count": 28,
   "metadata": {},
   "outputs": [
    {
     "name": "stderr",
     "output_type": "stream",
     "text": [
      "C:\\Users\\PC\\AppData\\Local\\Temp\\ipykernel_8564\\1980931887.py:3: VisibleDeprecationWarning: Creating an ndarray from ragged nested sequences (which is a list-or-tuple of lists-or-tuples-or ndarrays with different lengths or shapes) is deprecated. If you meant to do this, you must specify 'dtype=object' when creating the ndarray.\n",
      "  return np.array([np.floor(x[i]/intervalle) for i in range(x.size)])\n",
      "C:\\Users\\PC\\AppData\\Local\\Temp\\ipykernel_8564\\2014805988.py:3: RuntimeWarning: divide by zero encountered in log\n",
      "  proba = np.log(Pi[int(s[0])])\n",
      "C:\\Users\\PC\\AppData\\Local\\Temp\\ipykernel_8564\\2014805988.py:5: RuntimeWarning: divide by zero encountered in log\n",
      "  proba += np.log(A[int(s[i]), int(s[i+1])])\n"
     ]
    },
    {
     "data": {
      "text/plain": [
       "0.914179104477612"
      ]
     },
     "execution_count": 28,
     "metadata": {},
     "output_type": "execute_result"
    }
   ],
   "source": [
    "# Test avec d=20\n",
    "d = 20\n",
    "Xd = discretise(X, d)\n",
    "\n",
    "models = []\n",
    "for cl in range(len(np.unique(Y))): # parcours de toutes les classes et optimisation des modèles\n",
    "    models.append(learnMarkovModel(Xd[index[cl]], d))\n",
    "    \n",
    "pi, A = learnMarkovModel(Xd[index[0]], d)\n",
    "proba = np.array([[probaSequence(Xd[i], models[cl][0], models[cl][1]) for i in range(len(Xd))]\n",
    "                  for cl in range(len(np.unique(Y)))])\n",
    "\n",
    "# Calcul de la classe la plus probable :\n",
    "pred = proba.argmax(0) # max colonne par colonne\n",
    "\n",
    "# Calcul d'un pourcentage de bonne classificatioqn :\n",
    "np.where(pred != Ynum, 0.,1.).mean()"
   ]
  },
  {
   "cell_type": "markdown",
   "metadata": {},
   "source": [
    "**INDICE DE PERFORMANCE :** 91% de bonne classification avec 20 états, 69% avec 3 états"
   ]
  },
  {
   "cell_type": "markdown",
   "metadata": {},
   "source": [
    "## C. Biais d'évaluation, notion de sur-apprentissage\n",
    "\n",
    "Dans le protocole précédent, nous avons triché:\n",
    "- les données servent d'abord à apprendre les modèles...\n",
    "- puis nous nous servons des mêmes données pour tester les modèles ! Les performances sont forcément bonnes ! \n",
    "\n",
    "Afin de palier le problème, nous allons diviser en deux la base de données: une partie servira à l'apprentissage des modèles, l'autre à leur évaluation. Pour effectuer la division, nous fournissons le code suivant: "
   ]
  },
  {
   "cell_type": "code",
   "execution_count": 29,
   "metadata": {},
   "outputs": [],
   "source": [
    "# separation app/test, pc=ratio de points en apprentissage\n",
    "def separeTrainTest(y, pc):\n",
    "    indTrain = []\n",
    "    indTest = []\n",
    "    for i in np.unique(y): # pour toutes les classes\n",
    "        ind, = np.where(y == i)\n",
    "        n = len(ind)\n",
    "        indTrain.append(ind[np.random.permutation(n)][:int(np.floor(pc * n))])\n",
    "        indTest.append(np.setdiff1d(ind, indTrain[-1]))\n",
    "    return indTrain, indTest\n",
    "\n",
    "# exemple d'utilisation\n",
    "itrain, itest = separeTrainTest(Y, 0.8)"
   ]
  },
  {
   "cell_type": "markdown",
   "metadata": {},
   "source": [
    "dans `itrain`, nous obtenons les indices des signaux qui doivent servir en apprentissage pour chaque classe :"
   ]
  },
  {
   "cell_type": "code",
   "execution_count": 30,
   "metadata": {},
   "outputs": [
    {
     "data": {
      "text/plain": [
       "[array([ 7,  8,  9,  1,  3,  4,  0, 10], dtype=int64),\n",
       " array([21, 15, 20, 16, 17, 13, 18, 19], dtype=int64),\n",
       " array([26, 31, 32, 27, 30, 23, 22, 25], dtype=int64),\n",
       " array([38, 37, 39, 34, 35, 33, 40, 41], dtype=int64),\n",
       " array([46, 52, 51, 50, 45, 44, 47, 53], dtype=int64),\n",
       " array([57, 62, 58, 64, 59, 56, 55, 60], dtype=int64),\n",
       " array([67, 76, 74, 71, 73, 68, 75, 69], dtype=int64),\n",
       " array([86, 79, 80, 78, 83, 77, 85, 87], dtype=int64),\n",
       " array([93, 97, 91, 92, 89, 95, 96, 88], dtype=int64),\n",
       " array([104, 103, 101, 100, 102,  98, 107,  99], dtype=int64),\n",
       " array([110, 117, 112, 116, 108, 109, 114, 113], dtype=int64),\n",
       " array([121, 118, 122, 126, 124, 120, 123, 125], dtype=int64),\n",
       " array([128, 137, 130, 129, 132, 134, 131, 133], dtype=int64),\n",
       " array([141, 140, 146, 143, 139, 138, 145, 142], dtype=int64),\n",
       " array([154, 155, 148, 151, 157, 150, 153, 152], dtype=int64),\n",
       " array([167, 158, 160, 164, 161, 165, 162, 159], dtype=int64),\n",
       " array([176, 168, 177, 171, 174, 173, 170, 172], dtype=int64),\n",
       " array([181, 184, 179, 183, 185, 186, 180, 182], dtype=int64),\n",
       " array([190, 196, 194, 188, 195, 189, 192, 197], dtype=int64),\n",
       " array([205, 203, 204, 200, 206, 202, 201, 199], dtype=int64),\n",
       " array([213, 208, 217, 209, 211, 214, 210, 216], dtype=int64),\n",
       " array([222, 221, 225, 226, 224, 227, 220, 223], dtype=int64),\n",
       " array([237, 232, 233, 235, 228, 234, 229, 230], dtype=int64),\n",
       " array([246, 247, 238, 239, 245, 240, 244, 243], dtype=int64),\n",
       " array([249, 254, 252, 256, 250, 257, 253, 251], dtype=int64),\n",
       " array([263, 264, 258, 261, 262, 266, 259, 260], dtype=int64)]"
      ]
     },
     "execution_count": 30,
     "metadata": {},
     "output_type": "execute_result"
    }
   ],
   "source": [
    "itrain"
   ]
  },
  {
   "cell_type": "markdown",
   "metadata": {},
   "source": [
    "**Note :** pour faciliter l'évaluation des modèles, vous aurez besoin de re-fusionner tous les indices d'apprentissage et de test. Cela se fait avec les lignes de code suivantes : "
   ]
  },
  {
   "cell_type": "code",
   "execution_count": 31,
   "metadata": {},
   "outputs": [],
   "source": [
    "ia = []\n",
    "for i in itrain:\n",
    "    ia += i.tolist()    \n",
    "it = []\n",
    "for i in itest:\n",
    "    it += i.tolist()"
   ]
  },
  {
   "cell_type": "markdown",
   "metadata": {},
   "source": [
    "**Note 2 :** Du fait de la permutation aléatoire, les résultats vont bouger (un peu) à chaque execution du programme. "
   ]
  },
  {
   "cell_type": "markdown",
   "metadata": {},
   "source": [
    "### C1. Questions importantes\n",
    "- Ré-utiliser les fonctions précédemment définies pour apprendre des modèles et les évaluer sans biais.\n",
    "- Calculer et analyser les résultats obtenus en apprentissage et en test\n",
    "- Etudier l'évolution des performances en fonction de la discrétisation"
   ]
  },
  {
   "cell_type": "code",
   "execution_count": 32,
   "metadata": {},
   "outputs": [],
   "source": [
    "# calcul d'une version numérique des Y :\n",
    "Ynum_a = np.zeros(Y[ia].shape)\n",
    "for num, char in enumerate(np.unique(Y[ia])):\n",
    "    Ynum_a[Y[ia] == char] = num\n",
    "Ynum_t = np.zeros(Y[it].shape)\n",
    "for num, char in enumerate(np.unique(Y[it])):\n",
    "    Ynum_t[Y[it] == char] = num"
   ]
  },
  {
   "cell_type": "code",
   "execution_count": 33,
   "metadata": {},
   "outputs": [
    {
     "name": "stderr",
     "output_type": "stream",
     "text": [
      "C:\\Users\\PC\\AppData\\Local\\Temp\\ipykernel_8564\\1980931887.py:3: VisibleDeprecationWarning: Creating an ndarray from ragged nested sequences (which is a list-or-tuple of lists-or-tuples-or ndarrays with different lengths or shapes) is deprecated. If you meant to do this, you must specify 'dtype=object' when creating the ndarray.\n",
      "  return np.array([np.floor(x[i]/intervalle) for i in range(x.size)])\n",
      "C:\\Users\\PC\\AppData\\Local\\Temp\\ipykernel_8564\\2014805988.py:3: RuntimeWarning: divide by zero encountered in log\n",
      "  proba = np.log(Pi[int(s[0])])\n",
      "C:\\Users\\PC\\AppData\\Local\\Temp\\ipykernel_8564\\2014805988.py:5: RuntimeWarning: divide by zero encountered in log\n",
      "  proba += np.log(A[int(s[i]), int(s[i+1])])\n"
     ]
    },
    {
     "name": "stdout",
     "output_type": "stream",
     "text": [
      "Performances train set : 0.6730769230769231\n",
      "Performances test set : 0.6166666666666667\n"
     ]
    }
   ],
   "source": [
    "# Votre code\n",
    "d = 3                   # paramètre de discrétisation\n",
    "Xd = discretise(X, d)    # application de la discrétisation\n",
    "index = groupByLabel(Y[ia])  # groupement des signaux par classe\n",
    "\n",
    "Xd_train = Xd[ia]\n",
    "Xd_test = Xd[it]\n",
    "\n",
    "models = []\n",
    "for cl in range(len(np.unique(Y))): # parcours de toutes les classes et optimisation des modèles\n",
    "    models.append(learnMarkovModel(Xd_train[index[cl]], d))\n",
    "\n",
    "proba_a = np.array([[probaSequence(Xd_train[i], models[cl][0], models[cl][1]) for i in range(len(Xd_train))]\n",
    "                  for cl in range(len(np.unique(Y[ia])))])\n",
    "\n",
    "proba_t = np.array([[probaSequence(Xd_test[i], models[cl][0], models[cl][1]) for i in range(len(Xd_test))]\n",
    "                  for cl in range(len(np.unique(Y[it])))])\n",
    "\n",
    "\n",
    "# Evaluation des performances sur le train set\n",
    "\n",
    "# Calcul de la classe la plus probable :\n",
    "pred_a = proba_a.argmax(0) # max colonne par colonne\n",
    "pred_t = proba_t.argmax(0) # max colonne par colonne\n",
    "\n",
    "# Calcul d'un pourcentage de bonne classificatioqn :\n",
    "print('Performances train set :', np.where(pred_a != Ynum_a, 0.,1.).mean())\n",
    "print('Performances test set :', np.where(pred_t != Ynum_t, 0.,1.).mean())"
   ]
  },
  {
   "cell_type": "code",
   "execution_count": 34,
   "metadata": {},
   "outputs": [
    {
     "name": "stderr",
     "output_type": "stream",
     "text": [
      "C:\\Users\\PC\\AppData\\Local\\Temp\\ipykernel_8564\\1980931887.py:3: VisibleDeprecationWarning: Creating an ndarray from ragged nested sequences (which is a list-or-tuple of lists-or-tuples-or ndarrays with different lengths or shapes) is deprecated. If you meant to do this, you must specify 'dtype=object' when creating the ndarray.\n",
      "  return np.array([np.floor(x[i]/intervalle) for i in range(x.size)])\n",
      "C:\\Users\\PC\\AppData\\Local\\Temp\\ipykernel_8564\\2014805988.py:3: RuntimeWarning: divide by zero encountered in log\n",
      "  proba = np.log(Pi[int(s[0])])\n",
      "C:\\Users\\PC\\AppData\\Local\\Temp\\ipykernel_8564\\2014805988.py:5: RuntimeWarning: divide by zero encountered in log\n",
      "  proba += np.log(A[int(s[i]), int(s[i+1])])\n"
     ]
    },
    {
     "name": "stdout",
     "output_type": "stream",
     "text": [
      "Performances train set : 0.9326923076923077\n",
      "Performances test set : 0.16666666666666666\n"
     ]
    }
   ],
   "source": [
    "# Votre code\n",
    "d = 20                 # paramètre de discrétisation\n",
    "Xd = discretise(X, d)    # application de la discrétisation\n",
    "index = groupByLabel(Y[ia])  # groupement des signaux par classe\n",
    "\n",
    "Xd_train = Xd[ia]\n",
    "Xd_test = Xd[it]\n",
    "\n",
    "models = []\n",
    "for cl in range(len(np.unique(Y))): # parcours de toutes les classes et optimisation des modèles\n",
    "    models.append(learnMarkovModel(Xd_train[index[cl]], d))\n",
    "\n",
    "proba_a = np.array([[probaSequence(Xd_train[i], models[cl][0], models[cl][1]) for i in range(len(Xd_train))]\n",
    "                  for cl in range(len(np.unique(Y[ia])))])\n",
    "\n",
    "proba_t = np.array([[probaSequence(Xd_test[i], models[cl][0], models[cl][1]) for i in range(len(Xd_test))]\n",
    "                  for cl in range(len(np.unique(Y[it])))])\n",
    "\n",
    "\n",
    "## Evaluation des performances sur le train set\n",
    "# Calcul de la classe la plus probable :\n",
    "pred_a = proba_a.argmax(0) # max colonne par colonne\n",
    "pred_t = proba_t.argmax(0) # max colonne par colonne\n",
    "# Calcul d'un pourcentage de bonne classificatioqn :\n",
    "print('Performances train set :', np.where(pred_a != Ynum_a, 0.,1.).mean())\n",
    "print('Performances test set :', np.where(pred_t != Ynum_t, 0.,1.).mean())"
   ]
  },
  {
   "cell_type": "code",
   "execution_count": 36,
   "metadata": {},
   "outputs": [
    {
     "name": "stderr",
     "output_type": "stream",
     "text": [
      "C:\\Users\\PC\\AppData\\Local\\Temp\\ipykernel_8564\\1980931887.py:3: VisibleDeprecationWarning: Creating an ndarray from ragged nested sequences (which is a list-or-tuple of lists-or-tuples-or ndarrays with different lengths or shapes) is deprecated. If you meant to do this, you must specify 'dtype=object' when creating the ndarray.\n",
      "  return np.array([np.floor(x[i]/intervalle) for i in range(x.size)])\n",
      "C:\\Users\\PC\\AppData\\Local\\Temp\\ipykernel_8564\\2014805988.py:3: RuntimeWarning: divide by zero encountered in log\n",
      "  proba = np.log(Pi[int(s[0])])\n",
      "C:\\Users\\PC\\AppData\\Local\\Temp\\ipykernel_8564\\2014805988.py:5: RuntimeWarning: divide by zero encountered in log\n",
      "  proba += np.log(A[int(s[i]), int(s[i+1])])\n"
     ]
    }
   ],
   "source": [
    "# Votre code\n",
    "d_values = [1, 3, 5, 9, 15, 20]\n",
    "perf_train = []\n",
    "perf_test = []\n",
    "for d in d_values:\n",
    "    Xd = discretise(X, d)    # application de la discrétisation\n",
    "    index = groupByLabel(Y[ia])  # groupement des signaux par classe\n",
    "\n",
    "    Xd_train = Xd[ia]\n",
    "    Xd_test = Xd[it]\n",
    "\n",
    "    models = []\n",
    "    for cl in range(len(np.unique(Y))): # parcours de toutes les classes et optimisation des modèles\n",
    "        models.append(learnMarkovModel(Xd_train[index[cl]], d))\n",
    "\n",
    "    proba_a = np.array([[probaSequence(Xd_train[i], models[cl][0], models[cl][1]) for i in range(len(Xd_train))]\n",
    "                      for cl in range(len(np.unique(Y[ia])))])\n",
    "\n",
    "    proba_t = np.array([[probaSequence(Xd_test[i], models[cl][0], models[cl][1]) for i in range(len(Xd_test))]\n",
    "                      for cl in range(len(np.unique(Y[it])))])\n",
    "\n",
    "    ### Evaluation des performances sur le train set\n",
    "    # Calcul de la classe la plus probable :\n",
    "    pred_a = proba_a.argmax(0) # max colonne par colonne\n",
    "    pred_t = proba_t.argmax(0) # max colonne par colonne\n",
    "\n",
    "    perf_train.append(round(np.where(pred_a != Ynum_a, 0.,1.).mean(),2))\n",
    "    perf_test.append(round(np.where(pred_t != Ynum_t, 0.,1.).mean(),2))"
   ]
  },
  {
   "cell_type": "code",
   "execution_count": 46,
   "metadata": {
    "scrolled": true
   },
   "outputs": [
    {
     "data": {
      "image/png": "[encoded data removed]",
      "text/plain": [
       "<Figure size 432x288 with 1 Axes>"
      ]
     },
     "metadata": {
      "needs_background": "light"
     },
     "output_type": "display_data"
    }
   ],
   "source": [
    "plt.plot(d_values, perf_train,label = \"Train set\")\n",
    "plt.plot(d_values, perf_test, label = \"Test set\")\n",
    "plt.xlabel(\"Nombre d'état\")\n",
    "plt.ylabel(\"Moyenne des performances\")\n",
    "plt.legend()\n",
    "plt.show()"
   ]
  },
  {
   "cell_type": "markdown",
   "metadata": {},
   "source": [
    "### Remarque\n",
    "On remarque clairement que pour un nombre d'états petit (moins de 5) les performances constatées sur les données d'apprentissage et de test sont relativement proches, tandis que quand on augmente le nombre d'états de notre chaine de markov il y un écart qui apparait entre les performances sur train et test set, c'est le phénoomène du surapprentissage."
   ]
  },
  {
   "cell_type": "markdown",
   "metadata": {},
   "source": [
    "### C2. Lutter contre le sur-apprentissage\n",
    "Cette base de données met en lumière le phénomène de sur-apprentissage : il y a peu de données et dès que le nombre d'états augmente, il y a trop peu d'exemple pour estimer correctement les matrices {$A, \\pi$}. De nombreuses cases sont donc à 0, voire des lignes entières (d'où la sécurisation du code pour la normalisation des matrices stochastiques).\n",
    "\n",
    "Ces 0 sont particulièrement discriminants: considérant la classe {$c$}, ils permettent d'éliminer de cette classe tout signal présentant cette caractéristique. Cette règle est trop forte compte tenu de la taille de la base d'apprentissage. Nous proposons une astuce pour palier cette faiblesse : lors du comptage, initialiser les matrices {$A, \\pi$} avec ones au lieu de zeros . On fait semblant d'avoir observer une transition de chaque type avant même le début du comptage.\n",
    "\n",
    "Comparer les performances en test."
   ]
  },
  {
   "cell_type": "code",
   "execution_count": 88,
   "metadata": {},
   "outputs": [],
   "source": [
    "def learnMarkovModel(Xc, d):\n",
    "    A = np.ones((d, d))\n",
    "    Pi = np.ones(d)\n",
    "\n",
    "    for x in Xc:\n",
    "        Pi[int(x[0])] += 1\n",
    "        for i in range(x.size-1):\n",
    "            A[int(x[i]), int(x[i+1])] += 1\n",
    "    \n",
    "    A = A / np.maximum(A.sum(1).reshape(d, 1), 1) # normalisation\n",
    "    Pi = Pi / Pi.sum()\n",
    "    \n",
    "    return Pi, A"
   ]
  },
  {
   "cell_type": "markdown",
   "metadata": {},
   "source": [
    "### Comparaison des performances"
   ]
  },
  {
   "cell_type": "code",
   "execution_count": 89,
   "metadata": {},
   "outputs": [
    {
     "name": "stderr",
     "output_type": "stream",
     "text": [
      "C:\\Users\\PC\\AppData\\Local\\Temp\\ipykernel_8564\\1980931887.py:3: VisibleDeprecationWarning: Creating an ndarray from ragged nested sequences (which is a list-or-tuple of lists-or-tuples-or ndarrays with different lengths or shapes) is deprecated. If you meant to do this, you must specify 'dtype=object' when creating the ndarray.\n",
      "  return np.array([np.floor(x[i]/intervalle) for i in range(x.size)])\n"
     ]
    }
   ],
   "source": [
    "# Votre code\n",
    "d_values = [1, 3, 5, 9, 15, 20]\n",
    "perf_train = []\n",
    "perf_test = []\n",
    "for d in d_values:\n",
    "    Xd = discretise(X, d)    # application de la discrétisation\n",
    "    index = groupByLabel(Y[ia])  # groupement des signaux par classe\n",
    "\n",
    "    Xd_train = Xd[ia]\n",
    "    Xd_test = Xd[it]\n",
    "\n",
    "    models = []\n",
    "    for cl in range(len(np.unique(Y))): # parcours de toutes les classes et optimisation des modèles\n",
    "        models.append(learnMarkovModel(Xd_train[index[cl]], d))\n",
    "\n",
    "    proba_a = np.array([[probaSequence(Xd_train[i], models[cl][0], models[cl][1]) for i in range(len(Xd_train))]\n",
    "                      for cl in range(len(np.unique(Y[ia])))])\n",
    "\n",
    "    proba_t = np.array([[probaSequence(Xd_test[i], models[cl][0], models[cl][1]) for i in range(len(Xd_test))]\n",
    "                      for cl in range(len(np.unique(Y[it])))])\n",
    "\n",
    "    ### Evaluation des performances sur le train set\n",
    "    # Calcul de la classe la plus probable :\n",
    "    pred_a = proba_a.argmax(0) # max colonne par colonne\n",
    "    pred_t = proba_t.argmax(0) # max colonne par colonne\n",
    "\n",
    "    perf_train.append(round(np.where(pred_a != Ynum_a, 0.,1.).mean(),2))\n",
    "    perf_test.append(round(np.where(pred_t != Ynum_t, 0.,1.).mean(),2))"
   ]
  },
  {
   "cell_type": "code",
   "execution_count": 90,
   "metadata": {},
   "outputs": [
    {
     "data": {
      "image/png": "[encoded data removed]",
      "text/plain": [
       "<Figure size 432x288 with 1 Axes>"
      ]
     },
     "metadata": {
      "needs_background": "light"
     },
     "output_type": "display_data"
    }
   ],
   "source": [
    "plt.plot(d_values, perf_train,label = \"Train set\")\n",
    "plt.plot(d_values, perf_test, label = \"Test set\")\n",
    "plt.xlabel(\"Nombre d'état\")\n",
    "plt.ylabel(\"Moyenne des performances\")\n",
    "plt.legend()\n",
    "plt.show()"
   ]
  },
  {
   "cell_type": "markdown",
   "metadata": {},
   "source": [
    "On remarque qu'en introiduisant une valeur par défaut dans notre matrice de transition A on arrive à diminuer le surapprentissage sur les données."
   ]
  },
  {
   "cell_type": "markdown",
   "metadata": {},
   "source": [
    "## D. Evaluation qualitative\n",
    "\n",
    "Nous nous demandons maintenant où se trouvent les erreurs que nous avons commises...\n",
    "\n",
    "Calcul de la matrice de confusion: pour chaque échantillon de test, nous avons une prédiction (issue du modèle) et une vérité terrain (la vraie étiquette). En posant Nc le nombre de classes, la matrice de confusion est une matrice (Nc x Nc) où nous comptons le nombre d'échantillon de test dans chaque catégorie :\n",
    "\n",
    "- Initialisation à 0 : "
   ]
  },
  {
   "cell_type": "code",
   "execution_count": 91,
   "metadata": {},
   "outputs": [],
   "source": [
    "conf = np.zeros((26,26))"
   ]
  },
  {
   "cell_type": "markdown",
   "metadata": {},
   "source": [
    "- Pour chaque échantillon, incrément de la case (prediction, vérité)"
   ]
  },
  {
   "cell_type": "code",
   "execution_count": 92,
   "metadata": {},
   "outputs": [],
   "source": [
    "def matrice_confusion(Y, Y_hat):\n",
    "    C = len(np.unique(Y))\n",
    "    m = np.zeros((len(np.unique(Y)),len(np.unique(Y))))\n",
    "    for i in range(len(Y)):\n",
    "        m[int(Y[i]),int(Y_hat[i])] += 1\n",
    "    return m"
   ]
  },
  {
   "cell_type": "code",
   "execution_count": 93,
   "metadata": {},
   "outputs": [
    {
     "name": "stderr",
     "output_type": "stream",
     "text": [
      "C:\\Users\\PC\\AppData\\Local\\Temp\\ipykernel_8564\\1980931887.py:3: VisibleDeprecationWarning: Creating an ndarray from ragged nested sequences (which is a list-or-tuple of lists-or-tuples-or ndarrays with different lengths or shapes) is deprecated. If you meant to do this, you must specify 'dtype=object' when creating the ndarray.\n",
      "  return np.array([np.floor(x[i]/intervalle) for i in range(x.size)])\n"
     ]
    }
   ],
   "source": [
    "# Votre code\n",
    "d = 3                 # paramètre de discrétisation\n",
    "Xd = discretise(X, d)    # application de la discrétisation\n",
    "index = groupByLabel(Y[ia])  # groupement des signaux par classe\n",
    "\n",
    "Xd_train = Xd[ia]\n",
    "Xd_test = Xd[it]\n",
    "\n",
    "models = []\n",
    "for cl in range(len(np.unique(Y))): # parcours de toutes les classes et optimisation des modèles\n",
    "    models.append(learnMarkovModel(Xd_train[index[cl]], d))\n",
    "\n",
    "proba_a = np.array([[probaSequence(Xd_train[i], models[cl][0], models[cl][1]) for i in range(len(Xd_train))]\n",
    "                  for cl in range(len(np.unique(Y[ia])))])\n",
    "\n",
    "proba_t = np.array([[probaSequence(Xd_test[i], models[cl][0], models[cl][1]) for i in range(len(Xd_test))]\n",
    "                  for cl in range(len(np.unique(Y[it])))])\n",
    "\n",
    "# Calcul de la classe la plus probable :\n",
    "pred_a = proba_a.argmax(0) # max colonne par colonne\n",
    "pred_t = proba_t.argmax(0) # max colonne par colonne"
   ]
  },
  {
   "cell_type": "code",
   "execution_count": 94,
   "metadata": {},
   "outputs": [],
   "source": [
    "# Votre code\n",
    "conf = matrice_confusion(Ynum_t, pred_t)"
   ]
  },
  {
   "cell_type": "markdown",
   "metadata": {},
   "source": [
    "- Tracé de la matrice : "
   ]
  },
  {
   "cell_type": "code",
   "execution_count": 95,
   "metadata": {},
   "outputs": [
    {
     "data": {
      "text/plain": [
       "Text(0, 0.5, 'Prédiction')"
      ]
     },
     "execution_count": 95,
     "metadata": {},
     "output_type": "execute_result"
    },
    {
     "data": {
      "image/png": "[encoded data removed]",
      "text/plain": [
       "<Figure size 432x288 with 2 Axes>"
      ]
     },
     "metadata": {
      "needs_background": "light"
     },
     "output_type": "display_data"
    }
   ],
   "source": [
    "plt.figure()\n",
    "plt.imshow(conf, interpolation = 'nearest')\n",
    "plt.colorbar()\n",
    "plt.xticks(np.arange(26), np.unique(Y))\n",
    "plt.yticks(np.arange(26), np.unique(Y))\n",
    "plt.xlabel(u'Vérité terrain')\n",
    "plt.ylabel(u'Prédiction')\n",
    "#plt.savefig(\"mat_conf_lettres.png\")"
   ]
  },
  {
   "cell_type": "markdown",
   "metadata": {},
   "source": [
    "## E. Modèle génératif\n",
    "\n",
    "Utiliser les modèles appris pour générer de nouvelles lettres manuscrites.\n",
    "\n",
    "### E1. Tirage selon une loi de probabilité discrète\n",
    "\n",
    "- faire la somme cumulée de la loi {$sc$}\n",
    "- tirer un nombre aléatoire {$t$} entre 0 et 1\n",
    "- trouver la première valeur de {$sc$} qui est supérieure à {$t$}\n",
    "- retourner cet état \n",
    "\n",
    "**Note :** comme vu en cours, tout repose sur la somme cumulée (notée ici `sc$`, calculable en appelant `np.cumsum`. Sur un exemple: la loi `V = [0.2, 0.4, 0.3, 0.1]` a pour somme cumulée `V.cumsum() == [0.2,  0.6,  0.9,  1.0]`\n",
    "\n",
    "### E2. Génération d'une séquence de longueur N\n",
    "\n",
    "- tirer un état {$s_0$} selon Pi\n",
    "- tant que la longueur n'est pas atteinte :\n",
    "  - tirer un état {$s_{t+1}$} selon {$A[s_{t}]$} "
   ]
  },
  {
   "cell_type": "code",
   "execution_count": 168,
   "metadata": {},
   "outputs": [
    {
     "name": "stderr",
     "output_type": "stream",
     "text": [
      "C:\\Users\\PC\\AppData\\Local\\Temp\\ipykernel_8564\\1980931887.py:3: VisibleDeprecationWarning: Creating an ndarray from ragged nested sequences (which is a list-or-tuple of lists-or-tuples-or ndarrays with different lengths or shapes) is deprecated. If you meant to do this, you must specify 'dtype=object' when creating the ndarray.\n",
      "  return np.array([np.floor(x[i]/intervalle) for i in range(x.size)])\n"
     ]
    }
   ],
   "source": [
    "# Votre code\n",
    "d = 20                 # paramètre de discrétisation\n",
    "Xd = discretise(X, d)    # application de la discrétisation\n",
    "index = groupByLabel(Y[ia])  # groupement des signaux par classe\n",
    "\n",
    "Xd_train = Xd[ia]\n",
    "Xd_test = Xd[it]\n",
    "\n",
    "models = []\n",
    "for cl in range(len(np.unique(Y))): # parcours de toutes les classes et optimisation des modèles\n",
    "    models.append(learnMarkovModel(Xd_train[index[cl]], d))\n",
    "\n",
    "proba_a = np.array([[probaSequence(Xd_train[i], models[cl][0], models[cl][1]) for i in range(len(Xd_train))]\n",
    "                  for cl in range(len(np.unique(Y[ia])))])\n",
    "\n",
    "proba_t = np.array([[probaSequence(Xd_test[i], models[cl][0], models[cl][1]) for i in range(len(Xd_test))]\n",
    "                  for cl in range(len(np.unique(Y[it])))])\n",
    "\n",
    "# Calcul de la classe la plus probable :\n",
    "pred_a = proba_a.argmax(0) # max colonne par colonne\n",
    "pred_t = proba_t.argmax(0) # max colonne par colonne"
   ]
  },
  {
   "cell_type": "code",
   "execution_count": 214,
   "metadata": {},
   "outputs": [],
   "source": [
    "# Votre code\n",
    "def generate(Pi, A, d):\n",
    "    n = 200\n",
    "    s = np.zeros((n))\n",
    "    sc = np.cumsum(A, axis=1)\n",
    "    sc_p = np.cumsum(Pi)\n",
    "\n",
    "    a = np.random.uniform()\n",
    "    s[0] = int(np.where(sc_p>a)[0][0])\n",
    "    for i in range(1, n):\n",
    "        a = np.random.uniform()\n",
    "        s[i] = int(np.where(sc[int(s[i-1])]>a)[0][0])\n",
    "    return s"
   ]
  },
  {
   "cell_type": "markdown",
   "metadata": {},
   "source": [
    "### E3. Affichage du résultat"
   ]
  },
  {
   "cell_type": "code",
   "execution_count": 216,
   "metadata": {},
   "outputs": [
    {
     "data": {
      "image/png": "[encoded data removed]",
      "text/plain": [
       "<Figure size 432x288 with 1 Axes>"
      ]
     },
     "metadata": {
      "needs_background": "light"
     },
     "output_type": "display_data"
    }
   ],
   "source": [
    "newa = generate(models[0][0], models[0][1], 20)       # generation d'une séquence d'états\n",
    "intervalle = 360. / d                                 # pour passer des états => valeur d'angles\n",
    "newa_continu = np.array([i * intervalle for i in newa]) # conv int => double\n",
    "tracerLettre(newa_continu)"
   ]
  },
  {
   "cell_type": "code",
   "execution_count": null,
   "metadata": {},
   "outputs": [],
   "source": []
  }
 ],
 "metadata": {
  "kernelspec": {
   "display_name": "Python 3 (ipykernel)",
   "language": "python",
   "name": "python3"
  },
  "language_info": {
   "codemirror_mode": {
    "name": "ipython",
    "version": 3
   },
   "file_extension": ".py",
   "mimetype": "text/x-python",
   "name": "python",
   "nbconvert_exporter": "python",
   "pygments_lexer": "ipython3",
   "version": "3.10.0"
  }
 },
 "nbformat": 4,
 "nbformat_minor": 4
}
